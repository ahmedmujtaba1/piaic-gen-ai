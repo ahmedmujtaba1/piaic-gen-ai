{
 "cells": [
  {
   "cell_type": "markdown",
   "metadata": {},
   "source": [
    "https://platform.openai.com/docs/guides/vision\n",
    "\n",
    "https://platform.openai.com/docs/api-reference/images"
   ]
  },
  {
   "cell_type": "code",
   "execution_count": 1,
   "metadata": {},
   "outputs": [
    {
     "name": "stdout",
     "output_type": "stream",
     "text": [
      "Choice(finish_reason=None, index=0, message=ChatCompletionMessage(content='The image depicts a serene natural landscape with a wooden boardwalk running through a lush field of tall green grasses. The boardwalk appears to provide a path for walking and enjoying the natural environment, leading the viewer through the grassy area presumably to prevent disturbance to the vegetation and wildlife. The sky above is partly cloudy with blue tones and wispy white clouds, suggesting a pleasant day time. Trees and shrubs are visible on the horizon, interspersed in the grassland, giving a sense of the ecosystem diversity in the area. The overall atmosphere is peaceful and picturesque.', role='assistant', function_call=None, tool_calls=None), finish_details={'type': 'stop', 'stop': '<|fim_suffix|>'})\n"
     ]
    }
   ],
   "source": [
    "from openai import OpenAI\n",
    "\n",
    "client = OpenAI()\n",
    "\n",
    "response = client.chat.completions.create(\n",
    "  model=\"gpt-4-vision-preview\",\n",
    "  messages=[\n",
    "    {\n",
    "      \"role\": \"user\",\n",
    "      \"content\": [\n",
    "        {\"type\": \"text\", \"text\": \"What’s in this image?\"},\n",
    "        {\n",
    "          \"type\": \"image_url\",\n",
    "          \"image_url\": {\n",
    "            \"url\": \"https://upload.wikimedia.org/wikipedia/commons/thumb/d/dd/Gfp-wisconsin-madison-the-nature-boardwalk.jpg/2560px-Gfp-wisconsin-madison-the-nature-boardwalk.jpg\",\n",
    "          },\n",
    "        },\n",
    "      ],\n",
    "    }\n",
    "  ],\n",
    "  max_tokens=300,\n",
    ")\n",
    "\n",
    "print(response.choices[0])"
   ]
  },
  {
   "cell_type": "code",
   "execution_count": 3,
   "metadata": {},
   "outputs": [
    {
     "data": {
      "text/plain": [
       "{'finish_reason': None,\n",
       " 'index': 0,\n",
       " 'message': ChatCompletionMessage(content='The image depicts a serene natural landscape with a wooden boardwalk running through a lush field of tall green grasses. The boardwalk appears to provide a path for walking and enjoying the natural environment, leading the viewer through the grassy area presumably to prevent disturbance to the vegetation and wildlife. The sky above is partly cloudy with blue tones and wispy white clouds, suggesting a pleasant day time. Trees and shrubs are visible on the horizon, interspersed in the grassland, giving a sense of the ecosystem diversity in the area. The overall atmosphere is peaceful and picturesque.', role='assistant', function_call=None, tool_calls=None),\n",
       " 'finish_details': {'type': 'stop', 'stop': '<|fim_suffix|>'}}"
      ]
     },
     "execution_count": 3,
     "metadata": {},
     "output_type": "execute_result"
    }
   ],
   "source": [
    "dict(response.choices[0])"
   ]
  },
  {
   "cell_type": "code",
   "execution_count": 5,
   "metadata": {},
   "outputs": [
    {
     "name": "stdout",
     "output_type": "stream",
     "text": [
      "The image depicts a serene natural landscape with a wooden boardwalk running through a lush field of tall green grasses. The boardwalk appears to provide a path for walking and enjoying the natural environment, leading the viewer through the grassy area presumably to prevent disturbance to the vegetation and wildlife. The sky above is partly cloudy with blue tones and wispy white clouds, suggesting a pleasant day time. Trees and shrubs are visible on the horizon, interspersed in the grassland, giving a sense of the ecosystem diversity in the area. The overall atmosphere is peaceful and picturesque.\n"
     ]
    }
   ],
   "source": [
    "print(response.choices[0].message.content)"
   ]
  },
  {
   "cell_type": "code",
   "execution_count": 8,
   "metadata": {},
   "outputs": [
    {
     "name": "stdout",
     "output_type": "stream",
     "text": [
      "{'id': 'chatcmpl-8UutpmW8H7I3slQrGE5YxeMsRrX3s', 'object': 'chat.completion', 'created': 1702379253, 'model': 'gpt-4-1106-vision-preview', 'usage': {'prompt_tokens': 268, 'completion_tokens': 72, 'total_tokens': 340}, 'choices': [{'message': {'role': 'assistant', 'content': 'The image shows an adult elephant accompanied by a baby elephant, most likely a mother and her offspring. They appear to be walking or standing in a natural habitat that looks like a savanna or grassland, indicative of their natural environment in the wild. The vegetation in the background suggests they might be in a protected area or a region where such wildlife is common.'}, 'finish_details': {'type': 'stop', 'stop': '<|fim_suffix|>'}, 'index': 0}]}\n"
     ]
    }
   ],
   "source": [
    "import base64\n",
    "import requests\n",
    "import base64\n",
    "import requests\n",
    "import os\n",
    "\n",
    "# OpenAI API Key\n",
    "api_key = os.environ[\"OPENAI_API_KEY\"]\n",
    "\n",
    "# Function to encode the image\n",
    "def encode_image(image_path):\n",
    "  with open(image_path, \"rb\") as image_file:\n",
    "    return base64.b64encode(image_file.read()).decode('utf-8')\n",
    "\n",
    "# Path to your image\n",
    "image_path = \"abc.jpeg\"\n",
    "\n",
    "# Getting the base64 string\n",
    "base64_image = encode_image(image_path)\n",
    "\n",
    "headers = {\n",
    "  \"Content-Type\": \"application/json\",\n",
    "  \"Authorization\": f\"Bearer {api_key}\"\n",
    "}\n",
    "\n",
    "payload = {\n",
    "  \"model\": \"gpt-4-vision-preview\",\n",
    "  \"messages\": [\n",
    "    {\n",
    "      \"role\": \"user\",\n",
    "      \"content\": [\n",
    "        {\n",
    "          \"type\": \"text\",\n",
    "          \"text\": \"What’s in this image?\"\n",
    "        },\n",
    "        {\n",
    "          \"type\": \"image_url\",\n",
    "          \"image_url\": {\n",
    "            \"url\": f\"data:image/jpeg;base64,{base64_image}\"\n",
    "          }\n",
    "        }\n",
    "      ]\n",
    "    }\n",
    "  ],\n",
    "  \"max_tokens\": 300\n",
    "}\n",
    "\n",
    "response = requests.post(\"https://api.openai.com/v1/chat/completions\", headers=headers, json=payload)\n",
    "\n",
    "print(response.json())\n"
   ]
  },
  {
   "cell_type": "code",
   "execution_count": 24,
   "metadata": {},
   "outputs": [
    {
     "name": "stdout",
     "output_type": "stream",
     "text": [
      "The image shows an adult elephant accompanied by a baby elephant, most likely a mother and her offspring. They appear to be walking or standing in a natural habitat that looks like a savanna or grassland, indicative of their natural environment in the wild. The vegetation in the background suggests they might be in a protected area or a region where such wildlife is common.\n"
     ]
    }
   ],
   "source": [
    "print(response.json().get('choices')[0].get('message').get('content'))"
   ]
  },
  {
   "cell_type": "code",
   "execution_count": null,
   "metadata": {},
   "outputs": [],
   "source": [
    "#end"
   ]
  }
 ],
 "metadata": {
  "kernelspec": {
   "display_name": "py311",
   "language": "python",
   "name": "python3"
  },
  "language_info": {
   "codemirror_mode": {
    "name": "ipython",
    "version": 3
   },
   "file_extension": ".py",
   "mimetype": "text/x-python",
   "name": "python",
   "nbconvert_exporter": "python",
   "pygments_lexer": "ipython3",
   "version": "3.11.5"
  },
  "orig_nbformat": 4
 },
 "nbformat": 4,
 "nbformat_minor": 2
}
