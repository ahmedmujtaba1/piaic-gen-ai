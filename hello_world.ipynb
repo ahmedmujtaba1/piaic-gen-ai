{
 "cells": [
  {
   "cell_type": "markdown",
   "metadata": {},
   "source": [
    "* UIT wifi password uit91258\n",
    "* We will learn OpenAI API: https://github.com/openai/openai-python\n",
    "* We will create a new envirnoment and activate it:\n",
    "* `conda create --name myopenai python=3.11.5`\n",
    "* `conda env list`\n",
    "* `conda activate myopenai`\n",
    "* `python --version`"
   ]
  },
  {
   "cell_type": "markdown",
   "metadata": {},
   "source": [
    "### install packages from `requirements.txt`\n",
    "`pip install -r requirements.txt`"
   ]
  },
  {
   "cell_type": "code",
   "execution_count": 1,
   "metadata": {},
   "outputs": [
    {
     "name": "stdout",
     "output_type": "stream",
     "text": [
      "Requirement already satisfied: python-dotenv in b:\\users\\ny77\\anaconda3\\envs\\myopenai\\lib\\site-packages (from -r requirements.txt (line 1)) (1.0.0)\n",
      "Requirement already satisfied: openai in b:\\users\\ny77\\anaconda3\\envs\\myopenai\\lib\\site-packages (from -r requirements.txt (line 2)) (1.2.4)\n",
      "Requirement already satisfied: anyio<4,>=3.5.0 in b:\\users\\ny77\\anaconda3\\envs\\myopenai\\lib\\site-packages (from openai->-r requirements.txt (line 2)) (3.7.1)\n",
      "Requirement already satisfied: distro<2,>=1.7.0 in b:\\users\\ny77\\anaconda3\\envs\\myopenai\\lib\\site-packages (from openai->-r requirements.txt (line 2)) (1.8.0)\n",
      "Requirement already satisfied: httpx<1,>=0.23.0 in b:\\users\\ny77\\anaconda3\\envs\\myopenai\\lib\\site-packages (from openai->-r requirements.txt (line 2)) (0.25.1)\n",
      "Requirement already satisfied: pydantic<3,>=1.9.0 in b:\\users\\ny77\\anaconda3\\envs\\myopenai\\lib\\site-packages (from openai->-r requirements.txt (line 2)) (2.5.0)\n",
      "Requirement already satisfied: tqdm>4 in b:\\users\\ny77\\anaconda3\\envs\\myopenai\\lib\\site-packages (from openai->-r requirements.txt (line 2)) (4.66.1)\n",
      "Requirement already satisfied: typing-extensions<5,>=4.5 in b:\\users\\ny77\\anaconda3\\envs\\myopenai\\lib\\site-packages (from openai->-r requirements.txt (line 2)) (4.8.0)\n",
      "Requirement already satisfied: idna>=2.8 in b:\\users\\ny77\\anaconda3\\envs\\myopenai\\lib\\site-packages (from anyio<4,>=3.5.0->openai->-r requirements.txt (line 2)) (3.4)\n",
      "Requirement already satisfied: sniffio>=1.1 in b:\\users\\ny77\\anaconda3\\envs\\myopenai\\lib\\site-packages (from anyio<4,>=3.5.0->openai->-r requirements.txt (line 2)) (1.3.0)\n",
      "Requirement already satisfied: certifi in b:\\users\\ny77\\anaconda3\\envs\\myopenai\\lib\\site-packages (from httpx<1,>=0.23.0->openai->-r requirements.txt (line 2)) (2023.7.22)\n",
      "Requirement already satisfied: httpcore in b:\\users\\ny77\\anaconda3\\envs\\myopenai\\lib\\site-packages (from httpx<1,>=0.23.0->openai->-r requirements.txt (line 2)) (1.0.2)\n",
      "Requirement already satisfied: annotated-types>=0.4.0 in b:\\users\\ny77\\anaconda3\\envs\\myopenai\\lib\\site-packages (from pydantic<3,>=1.9.0->openai->-r requirements.txt (line 2)) (0.6.0)\n",
      "Requirement already satisfied: pydantic-core==2.14.1 in b:\\users\\ny77\\anaconda3\\envs\\myopenai\\lib\\site-packages (from pydantic<3,>=1.9.0->openai->-r requirements.txt (line 2)) (2.14.1)\n",
      "Requirement already satisfied: colorama in b:\\users\\ny77\\anaconda3\\envs\\myopenai\\lib\\site-packages (from tqdm>4->openai->-r requirements.txt (line 2)) (0.4.6)\n",
      "Requirement already satisfied: h11<0.15,>=0.13 in b:\\users\\ny77\\anaconda3\\envs\\myopenai\\lib\\site-packages (from httpcore->httpx<1,>=0.23.0->openai->-r requirements.txt (line 2)) (0.14.0)\n",
      "Note: you may need to restart the kernel to use updated packages.\n"
     ]
    }
   ],
   "source": [
    "%pip install -r requirements.txt"
   ]
  },
  {
   "cell_type": "code",
   "execution_count": 2,
   "metadata": {},
   "outputs": [
    {
     "name": "stdout",
     "output_type": "stream",
     "text": [
      "Pakistan\n"
     ]
    }
   ],
   "source": [
    "print(\"Pakistan\")"
   ]
  },
  {
   "cell_type": "markdown",
   "metadata": {},
   "source": [
    "### Understand Chat Completion API\n",
    "\n",
    "https://platform.openai.com/docs/guides/text-generation/chat-completions-api\n",
    "\n",
    "https://platform.openai.com/docs/api-reference/chat "
   ]
  },
  {
   "cell_type": "code",
   "execution_count": 1,
   "metadata": {},
   "outputs": [],
   "source": [
    "from openai import OpenAI\n",
    "from dotenv import load_dotenv, find_dotenv\n",
    "\n",
    "_ : bool = load_dotenv(find_dotenv()) # read local .env file\n",
    "client : OpenAI = OpenAI()\n"
   ]
  },
  {
   "cell_type": "code",
   "execution_count": 2,
   "metadata": {},
   "outputs": [
    {
     "data": {
      "text/plain": [
       "'1+1 equals 2.'"
      ]
     },
     "execution_count": 2,
     "metadata": {},
     "output_type": "execute_result"
    }
   ],
   "source": [
    "from openai.types.chat.chat_completion import ChatCompletion\n",
    "\n",
    "def chat_completion(prompt : str )-> str:\n",
    " response : ChatCompletion = client.chat.completions.create(\n",
    "        messages=[\n",
    "            {\n",
    "                \"role\": \"user\",\n",
    "                \"content\": prompt,\n",
    "            }\n",
    "        ],\n",
    "        model=\"gpt-3.5-turbo-1106\",\n",
    "    )\n",
    "# print(response)\n",
    "#  print(response.choices[0].message.content)\n",
    " return response.choices[0].message.content\n",
    "\n",
    "chat_completion(\"what is 1+1?\")"
   ]
  },
  {
   "cell_type": "code",
   "execution_count": null,
   "metadata": {},
   "outputs": [],
   "source": []
  }
 ],
 "metadata": {
  "kernelspec": {
   "display_name": "py311",
   "language": "python",
   "name": "python3"
  },
  "language_info": {
   "codemirror_mode": {
    "name": "ipython",
    "version": 3
   },
   "file_extension": ".py",
   "mimetype": "text/x-python",
   "name": "python",
   "nbconvert_exporter": "python",
   "pygments_lexer": "ipython3",
   "version": "3.11.5"
  },
  "orig_nbformat": 4
 },
 "nbformat": 4,
 "nbformat_minor": 2
}
