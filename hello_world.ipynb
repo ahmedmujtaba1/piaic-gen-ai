{
 "cells": [
  {
   "cell_type": "markdown",
   "metadata": {},
   "source": [
    "* UIT wifi password uit91258\n",
    "* We will learn OpenAI API: https://github.com/openai/openai-python\n",
    "* We will create a new envirnoment and activate it:\n",
    "* `conda create --name myopenai python=3.11.5`\n",
    "* `conda env list`\n",
    "* `conda activate myopenai`\n",
    "* `python --version`"
   ]
  },
  {
   "cell_type": "markdown",
   "metadata": {},
   "source": [
    "### install packages from `requirements.txt`\n",
    "`pip install -r requirements.txt`"
   ]
  },
  {
   "cell_type": "code",
   "execution_count": 2,
   "metadata": {},
   "outputs": [
    {
     "name": "stdout",
     "output_type": "stream",
     "text": [
      "Collecting python-dotenv (from -r requirements.txt (line 1))\n",
      "  Downloading python_dotenv-1.0.0-py3-none-any.whl (19 kB)\n",
      "Collecting openai (from -r requirements.txt (line 2))\n",
      "  Downloading openai-1.2.4-py3-none-any.whl.metadata (16 kB)\n",
      "Collecting anyio<4,>=3.5.0 (from openai->-r requirements.txt (line 2))\n",
      "  Downloading anyio-3.7.1-py3-none-any.whl.metadata (4.7 kB)\n",
      "Collecting distro<2,>=1.7.0 (from openai->-r requirements.txt (line 2))\n",
      "  Downloading distro-1.8.0-py3-none-any.whl (20 kB)\n",
      "Collecting httpx<1,>=0.23.0 (from openai->-r requirements.txt (line 2))\n",
      "  Downloading httpx-0.25.1-py3-none-any.whl.metadata (7.1 kB)\n",
      "Collecting pydantic<3,>=1.9.0 (from openai->-r requirements.txt (line 2))\n",
      "  Downloading pydantic-2.5.0-py3-none-any.whl.metadata (174 kB)\n",
      "     ---------------------------------------- 0.0/174.6 kB ? eta -:--:--\n",
      "     ------ -------------------------------- 30.7/174.6 kB 1.4 MB/s eta 0:00:01\n",
      "     ------ -------------------------------- 30.7/174.6 kB 1.4 MB/s eta 0:00:01\n",
      "     ------------------- ----------------- 92.2/174.6 kB 751.6 kB/s eta 0:00:01\n",
      "     ------------------------------- ---- 153.6/174.6 kB 833.5 kB/s eta 0:00:01\n",
      "     ------------------------------------ 174.6/174.6 kB 809.5 kB/s eta 0:00:00\n",
      "Collecting tqdm>4 (from openai->-r requirements.txt (line 2))\n",
      "  Downloading tqdm-4.66.1-py3-none-any.whl.metadata (57 kB)\n",
      "     ---------------------------------------- 0.0/57.6 kB ? eta -:--:--\n",
      "     -------------------- ----------------- 30.7/57.6 kB 660.6 kB/s eta 0:00:01\n",
      "     -------------------------------------- 57.6/57.6 kB 764.0 kB/s eta 0:00:00\n",
      "Requirement already satisfied: typing-extensions<5,>=4.5 in b:\\users\\ny77\\anaconda3\\envs\\myopenai\\lib\\site-packages (from openai->-r requirements.txt (line 2)) (4.8.0)\n",
      "Collecting idna>=2.8 (from anyio<4,>=3.5.0->openai->-r requirements.txt (line 2))\n",
      "  Downloading idna-3.4-py3-none-any.whl (61 kB)\n",
      "     ---------------------------------------- 0.0/61.5 kB ? eta -:--:--\n",
      "     ---------------------------------------  61.4/61.5 kB 1.6 MB/s eta 0:00:01\n",
      "     ---------------------------------------- 61.5/61.5 kB 1.1 MB/s eta 0:00:00\n",
      "Collecting sniffio>=1.1 (from anyio<4,>=3.5.0->openai->-r requirements.txt (line 2))\n",
      "  Downloading sniffio-1.3.0-py3-none-any.whl (10 kB)\n",
      "Collecting certifi (from httpx<1,>=0.23.0->openai->-r requirements.txt (line 2))\n",
      "  Downloading certifi-2023.7.22-py3-none-any.whl.metadata (2.2 kB)\n",
      "Collecting httpcore (from httpx<1,>=0.23.0->openai->-r requirements.txt (line 2))\n",
      "  Downloading httpcore-1.0.2-py3-none-any.whl.metadata (20 kB)\n",
      "Collecting annotated-types>=0.4.0 (from pydantic<3,>=1.9.0->openai->-r requirements.txt (line 2))\n",
      "  Downloading annotated_types-0.6.0-py3-none-any.whl.metadata (12 kB)\n",
      "Collecting pydantic-core==2.14.1 (from pydantic<3,>=1.9.0->openai->-r requirements.txt (line 2))\n",
      "  Downloading pydantic_core-2.14.1-cp311-none-win_amd64.whl.metadata (6.6 kB)\n",
      "Requirement already satisfied: colorama in b:\\users\\ny77\\anaconda3\\envs\\myopenai\\lib\\site-packages (from tqdm>4->openai->-r requirements.txt (line 2)) (0.4.6)\n",
      "Collecting h11<0.15,>=0.13 (from httpcore->httpx<1,>=0.23.0->openai->-r requirements.txt (line 2))\n",
      "  Downloading h11-0.14.0-py3-none-any.whl (58 kB)\n",
      "     ---------------------------------------- 0.0/58.3 kB ? eta -:--:--\n",
      "     ----------------------------------- ---- 51.2/58.3 kB 1.3 MB/s eta 0:00:01\n",
      "     ---------------------------------------- 58.3/58.3 kB 1.0 MB/s eta 0:00:00\n",
      "Downloading openai-1.2.4-py3-none-any.whl (220 kB)\n",
      "   ---------------------------------------- 0.0/220.2 kB ? eta -:--:--\n",
      "   ----- ---------------------------------- 30.7/220.2 kB 1.4 MB/s eta 0:00:01\n",
      "   ---------------------- ----------------- 122.9/220.2 kB 1.8 MB/s eta 0:00:01\n",
      "   ---------------------------------------  215.0/220.2 kB 1.9 MB/s eta 0:00:01\n",
      "   ---------------------------------------- 220.2/220.2 kB 1.5 MB/s eta 0:00:00\n",
      "Downloading anyio-3.7.1-py3-none-any.whl (80 kB)\n",
      "   ---------------------------------------- 0.0/80.9 kB ? eta -:--:--\n",
      "   -------------------- ------------------- 41.0/80.9 kB 1.9 MB/s eta 0:00:01\n",
      "   ---------------------------------------- 80.9/80.9 kB 1.1 MB/s eta 0:00:00\n",
      "Downloading httpx-0.25.1-py3-none-any.whl (75 kB)\n",
      "   ---------------------------------------- 0.0/75.0 kB ? eta -:--:--\n",
      "   --------------------- ------------------ 41.0/75.0 kB 960.0 kB/s eta 0:00:01\n",
      "   ---------------------------------------- 75.0/75.0 kB 1.0 MB/s eta 0:00:00\n",
      "Downloading pydantic-2.5.0-py3-none-any.whl (407 kB)\n",
      "   ---------------------------------------- 0.0/407.5 kB ? eta -:--:--\n",
      "   ------ --------------------------------- 61.4/407.5 kB 3.2 MB/s eta 0:00:01\n",
      "   -------------- ------------------------- 143.4/407.5 kB 2.1 MB/s eta 0:00:01\n",
      "   ---------------------- ----------------- 225.3/407.5 kB 1.7 MB/s eta 0:00:01\n",
      "   ------------------------- -------------- 256.0/407.5 kB 1.7 MB/s eta 0:00:01\n",
      "   ------------------------------------ --- 368.6/407.5 kB 1.6 MB/s eta 0:00:01\n",
      "   ---------------------------------------- 407.5/407.5 kB 1.5 MB/s eta 0:00:00\n",
      "Downloading pydantic_core-2.14.1-cp311-none-win_amd64.whl (1.9 MB)\n",
      "   ---------------------------------------- 0.0/1.9 MB ? eta -:--:--\n",
      "   - -------------------------------------- 0.1/1.9 MB 4.5 MB/s eta 0:00:01\n",
      "   ---- ----------------------------------- 0.2/1.9 MB 2.1 MB/s eta 0:00:01\n",
      "   ----- ---------------------------------- 0.3/1.9 MB 1.9 MB/s eta 0:00:01\n",
      "   ------ --------------------------------- 0.3/1.9 MB 1.6 MB/s eta 0:00:02\n",
      "   ------ --------------------------------- 0.3/1.9 MB 1.4 MB/s eta 0:00:02\n",
      "   -------- ------------------------------- 0.4/1.9 MB 1.3 MB/s eta 0:00:02\n",
      "   --------- ------------------------------ 0.4/1.9 MB 1.3 MB/s eta 0:00:02\n",
      "   --------- ------------------------------ 0.5/1.9 MB 1.2 MB/s eta 0:00:02\n",
      "   --------- ------------------------------ 0.5/1.9 MB 1.1 MB/s eta 0:00:02\n",
      "   ------------ --------------------------- 0.6/1.9 MB 1.1 MB/s eta 0:00:02\n",
      "   ------------- -------------------------- 0.7/1.9 MB 1.1 MB/s eta 0:00:02\n",
      "   --------------- ------------------------ 0.7/1.9 MB 1.2 MB/s eta 0:00:02\n",
      "   --------------- ------------------------ 0.7/1.9 MB 1.1 MB/s eta 0:00:02\n",
      "   ---------------- ----------------------- 0.8/1.9 MB 1.1 MB/s eta 0:00:01\n",
      "   ----------------- ---------------------- 0.8/1.9 MB 1.1 MB/s eta 0:00:01\n",
      "   ------------------ --------------------- 0.9/1.9 MB 1.1 MB/s eta 0:00:01\n",
      "   ------------------ --------------------- 0.9/1.9 MB 1.1 MB/s eta 0:00:01\n",
      "   ------------------- -------------------- 0.9/1.9 MB 1.0 MB/s eta 0:00:01\n",
      "   -------------------- ------------------- 1.0/1.9 MB 1.0 MB/s eta 0:00:01\n",
      "   -------------------- ------------------- 1.0/1.9 MB 982.8 kB/s eta 0:00:01\n",
      "   -------------------- ------------------- 1.0/1.9 MB 982.8 kB/s eta 0:00:01\n",
      "   -------------------- ------------------- 1.0/1.9 MB 877.2 kB/s eta 0:00:02\n",
      "   --------------------- ------------------ 1.0/1.9 MB 873.7 kB/s eta 0:00:01\n",
      "   ---------------------- ----------------- 1.0/1.9 MB 848.4 kB/s eta 0:00:01\n",
      "   ----------------------- ---------------- 1.1/1.9 MB 871.3 kB/s eta 0:00:01\n",
      "   ------------------------ --------------- 1.2/1.9 MB 881.3 kB/s eta 0:00:01\n",
      "   ------------------------ --------------- 1.2/1.9 MB 849.0 kB/s eta 0:00:01\n",
      "   ------------------------- -------------- 1.2/1.9 MB 844.8 kB/s eta 0:00:01\n",
      "   -------------------------- ------------- 1.2/1.9 MB 843.5 kB/s eta 0:00:01\n",
      "   --------------------------- ------------ 1.3/1.9 MB 846.5 kB/s eta 0:00:01\n",
      "   --------------------------- ------------ 1.3/1.9 MB 824.1 kB/s eta 0:00:01\n",
      "   ---------------------------- ----------- 1.4/1.9 MB 848.0 kB/s eta 0:00:01\n",
      "   ------------------------------ --------- 1.4/1.9 MB 853.3 kB/s eta 0:00:01\n",
      "   ------------------------------ --------- 1.5/1.9 MB 861.4 kB/s eta 0:00:01\n",
      "   -------------------------------- ------- 1.5/1.9 MB 852.4 kB/s eta 0:00:01\n",
      "   -------------------------------- ------- 1.5/1.9 MB 852.4 kB/s eta 0:00:01\n",
      "   -------------------------------- ------- 1.5/1.9 MB 833.0 kB/s eta 0:00:01\n",
      "   -------------------------------- ------- 1.6/1.9 MB 817.7 kB/s eta 0:00:01\n",
      "   --------------------------------- ------ 1.6/1.9 MB 802.2 kB/s eta 0:00:01\n",
      "   ---------------------------------- ----- 1.6/1.9 MB 809.0 kB/s eta 0:00:01\n",
      "   ----------------------------------- ---- 1.7/1.9 MB 815.4 kB/s eta 0:00:01\n",
      "   ----------------------------------- ---- 1.7/1.9 MB 815.4 kB/s eta 0:00:01\n",
      "   ----------------------------------- ---- 1.7/1.9 MB 796.3 kB/s eta 0:00:01\n",
      "   -------------------------------------- - 1.8/1.9 MB 813.4 kB/s eta 0:00:01\n",
      "   -------------------------------------- - 1.8/1.9 MB 813.4 kB/s eta 0:00:01\n",
      "   -------------------------------------- - 1.8/1.9 MB 794.6 kB/s eta 0:00:01\n",
      "   ---------------------------------------  1.9/1.9 MB 804.9 kB/s eta 0:00:01\n",
      "   ---------------------------------------- 1.9/1.9 MB 797.0 kB/s eta 0:00:00\n",
      "Downloading tqdm-4.66.1-py3-none-any.whl (78 kB)\n",
      "   ---------------------------------------- 0.0/78.3 kB ? eta -:--:--\n",
      "   ------------------------------------ --- 71.7/78.3 kB 1.3 MB/s eta 0:00:01\n",
      "   ---------------------------------------- 78.3/78.3 kB 872.0 kB/s eta 0:00:00\n",
      "Downloading annotated_types-0.6.0-py3-none-any.whl (12 kB)\n",
      "Downloading certifi-2023.7.22-py3-none-any.whl (158 kB)\n",
      "   ---------------------------------------- 0.0/158.3 kB ? eta -:--:--\n",
      "   --------------- ------------------------ 61.4/158.3 kB 1.1 MB/s eta 0:00:01\n",
      "   ------------------------------- -------- 122.9/158.3 kB 1.2 MB/s eta 0:00:01\n",
      "   ---------------------------------------- 158.3/158.3 kB 1.1 MB/s eta 0:00:00\n",
      "Downloading httpcore-1.0.2-py3-none-any.whl (76 kB)\n",
      "   ---------------------------------------- 0.0/76.9 kB ? eta -:--:--\n",
      "   ---------------------------------------- 76.9/76.9 kB 1.4 MB/s eta 0:00:00\n",
      "Installing collected packages: tqdm, sniffio, python-dotenv, pydantic-core, idna, h11, distro, certifi, annotated-types, pydantic, httpcore, anyio, httpx, openai\n",
      "Successfully installed annotated-types-0.6.0 anyio-3.7.1 certifi-2023.7.22 distro-1.8.0 h11-0.14.0 httpcore-1.0.2 httpx-0.25.1 idna-3.4 openai-1.2.4 pydantic-2.5.0 pydantic-core-2.14.1 python-dotenv-1.0.0 sniffio-1.3.0 tqdm-4.66.1\n",
      "Note: you may need to restart the kernel to use updated packages.\n"
     ]
    }
   ],
   "source": [
    "%pip install -r requirements.txt"
   ]
  },
  {
   "cell_type": "code",
   "execution_count": 1,
   "metadata": {},
   "outputs": [
    {
     "name": "stdout",
     "output_type": "stream",
     "text": [
      "Pakistan\n"
     ]
    }
   ],
   "source": [
    "print(\"Pakistan\")"
   ]
  },
  {
   "cell_type": "markdown",
   "metadata": {},
   "source": [
    "### Understand Chat Completion API\n",
    "\n",
    "https://platform.openai.com/docs/guides/text-generation/chat-completions-api\n",
    "\n",
    "https://platform.openai.com/docs/api-reference/chat "
   ]
  },
  {
   "cell_type": "code",
   "execution_count": 2,
   "metadata": {},
   "outputs": [],
   "source": [
    "from openai import OpenAI\n",
    "from dotenv import load_dotenv, find_dotenv\n",
    "\n",
    "_ : bool = load_dotenv(find_dotenv()) # read local .env file\n",
    "client : OpenAI = OpenAI()\n"
   ]
  },
  {
   "cell_type": "code",
   "execution_count": 3,
   "metadata": {},
   "outputs": [
    {
     "data": {
      "text/plain": [
       "'The sum of 1+1 is 2.'"
      ]
     },
     "execution_count": 3,
     "metadata": {},
     "output_type": "execute_result"
    }
   ],
   "source": [
    "from openai.types.chat.chat_completion import ChatCompletion\n",
    "\n",
    "def chat_completion(prompt : str )-> str:\n",
    " response : ChatCompletion = client.chat.completions.create(\n",
    "        messages=[\n",
    "            {\n",
    "                \"role\": \"user\",\n",
    "                \"content\": prompt,\n",
    "            }\n",
    "        ],\n",
    "        model=\"gpt-3.5-turbo-1106\",\n",
    "    )\n",
    "# print(response)\n",
    "#  print(response.choices[0].message.content)\n",
    " return response.choices[0].message.content\n",
    "\n",
    "chat_completion(\"what is 1+1?\")"
   ]
  }
 ],
 "metadata": {
  "kernelspec": {
   "display_name": "py311",
   "language": "python",
   "name": "python3"
  },
  "language_info": {
   "codemirror_mode": {
    "name": "ipython",
    "version": 3
   },
   "file_extension": ".py",
   "mimetype": "text/x-python",
   "name": "python",
   "nbconvert_exporter": "python",
   "pygments_lexer": "ipython3",
   "version": "3.11.5"
  },
  "orig_nbformat": 4
 },
 "nbformat": 4,
 "nbformat_minor": 2
}
