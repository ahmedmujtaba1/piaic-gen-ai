{
 "cells": [
  {
   "cell_type": "markdown",
   "metadata": {},
   "source": [
    "# HTTP Requests\n",
    "\n",
    "We will use the simple book API to learn to call APIs:\n",
    "\n",
    "https://github.com/vdespa/introduction-to-postman-course/blob/main/simple-books-api.md \n",
    "\n",
    "Requests Documentation:\n",
    "\n",
    "https://requests.readthedocs.io/en/latest/\n",
    "\n",
    "Tutorial:\n",
    "\n",
    "https://ioflood.com/blog/python-requests/"
   ]
  },
  {
   "cell_type": "code",
   "execution_count": 1,
   "metadata": {},
   "outputs": [],
   "source": [
    "import requests"
   ]
  },
  {
   "cell_type": "markdown",
   "metadata": {},
   "source": [
    "### Get Status"
   ]
  },
  {
   "cell_type": "code",
   "execution_count": 2,
   "metadata": {},
   "outputs": [
    {
     "name": "stdout",
     "output_type": "stream",
     "text": [
      "200\n",
      "{'status': 'OK'}\n",
      "{\"status\":\"OK\"}\n",
      "{'Date': 'Tue, 26 Dec 2023 15:30:21 GMT', 'Content-Type': 'application/json; charset=utf-8', 'Content-Length': '15', 'Connection': 'keep-alive', 'x-powered-by': 'Express', 'etag': 'W/\"f-v/Y1JusChTxrQUzPtNAKycooOTA\"'}\n"
     ]
    }
   ],
   "source": [
    "from requests.models import Response\n",
    "from requests.structures import CaseInsensitiveDict\n",
    "\n",
    "response: Response = requests.get('https://simple-books-api.glitch.me/status')\n",
    "\n",
    "status_code : int = response.status_code\n",
    "print(status_code)\n",
    "\n",
    "json_obj : dict = response.json()\n",
    "print(json_obj)\n",
    "\n",
    "txt: str = response.text\n",
    "print(txt)\n",
    "\n",
    "headers: CaseInsensitiveDict = response.headers\n",
    "print(headers)\n"
   ]
  },
  {
   "cell_type": "markdown",
   "metadata": {},
   "source": [
    "### Get List of Books"
   ]
  },
  {
   "cell_type": "code",
   "execution_count": 3,
   "metadata": {},
   "outputs": [
    {
     "name": "stdout",
     "output_type": "stream",
     "text": [
      "200\n",
      "[{'id': 1, 'name': 'The Russian', 'type': 'fiction', 'available': True}, {'id': 2, 'name': 'Just as I Am', 'type': 'non-fiction', 'available': False}, {'id': 3, 'name': 'The Vanishing Half', 'type': 'fiction', 'available': True}, {'id': 4, 'name': 'The Midnight Library', 'type': 'fiction', 'available': True}, {'id': 5, 'name': 'Untamed', 'type': 'non-fiction', 'available': True}, {'id': 6, 'name': 'Viscount Who Loved Me', 'type': 'fiction', 'available': True}]\n",
      "{'Date': 'Tue, 26 Dec 2023 15:30:23 GMT', 'Content-Type': 'application/json; charset=utf-8', 'Content-Length': '417', 'Connection': 'keep-alive', 'x-powered-by': 'Express', 'etag': 'W/\"1a1-MfqhfTYtZO2sguD1mJq8Vf41WjU\"'}\n"
     ]
    }
   ],
   "source": [
    "\n",
    "response: Response = requests.get('https://simple-books-api.glitch.me/books')\n",
    "\n",
    "status_code : int = response.status_code\n",
    "print(status_code)\n",
    "\n",
    "json_obj : list = response.json()\n",
    "print(json_obj)\n",
    "\n",
    "\n",
    "headers: CaseInsensitiveDict = response.headers\n",
    "print(headers)"
   ]
  },
  {
   "cell_type": "markdown",
   "metadata": {},
   "source": [
    "### Get a Single Book"
   ]
  },
  {
   "cell_type": "code",
   "execution_count": 4,
   "metadata": {},
   "outputs": [
    {
     "name": "stdout",
     "output_type": "stream",
     "text": [
      "200\n",
      "{'id': 1, 'name': 'The Russian', 'author': 'James Patterson and James O. Born', 'isbn': '1780899475', 'type': 'fiction', 'price': 12.98, 'current-stock': 12, 'available': True}\n",
      "{'Date': 'Tue, 26 Dec 2023 15:30:25 GMT', 'Content-Type': 'application/json; charset=utf-8', 'Content-Length': '161', 'Connection': 'keep-alive', 'x-powered-by': 'Express', 'etag': 'W/\"a1-Mcj+H8w3JMJfpTU/R3TvAdr/Z7E\"'}\n"
     ]
    }
   ],
   "source": [
    "response: Response = requests.get('https://simple-books-api.glitch.me/books/1')\n",
    "\n",
    "status_code : int = response.status_code\n",
    "print(status_code)\n",
    "\n",
    "json_obj : dict = response.json()\n",
    "print(json_obj)\n",
    "\n",
    "headers: CaseInsensitiveDict = response.headers\n",
    "print(headers)"
   ]
  },
  {
   "cell_type": "markdown",
   "metadata": {},
   "source": [
    "### API Authentication"
   ]
  },
  {
   "cell_type": "code",
   "execution_count": 13,
   "metadata": {},
   "outputs": [
    {
     "name": "stdout",
     "output_type": "stream",
     "text": [
      "201\n",
      "{'accessToken': '4f19a161f57b34a12c40d9af45fafbca418a18121ff83f598376c5b27267ac49'}\n",
      "Access Token :  4f19a161f57b34a12c40d9af45fafbca418a18121ff83f598376c5b27267ac49\n"
     ]
    }
   ],
   "source": [
    "clientName: str = \"Postman\"\n",
    "data: dict = {\n",
    "   \"clientName\": clientName,\n",
    "   \"clientEmail\": \"99@example.com\"\n",
    "}\n",
    "\n",
    "response1: Response = requests.post('https://simple-books-api.glitch.me/api-clients/', json = data)\n",
    "\n",
    "status_code : int = response1.status_code\n",
    "print(status_code)\n",
    "\n",
    "json_obj : dict = response1.json()\n",
    "print(json_obj)\n",
    "\n",
    "accessToken = json_obj.get('accessToken')\n",
    "print('Access Token : ', accessToken)"
   ]
  },
  {
   "cell_type": "markdown",
   "metadata": {},
   "source": [
    "### Submit an order"
   ]
  },
  {
   "cell_type": "code",
   "execution_count": 16,
   "metadata": {},
   "outputs": [
    {
     "name": "stdout",
     "output_type": "stream",
     "text": [
      "201\n",
      "{'created': True, 'orderId': 'pigPK0_fL8IwRWRlkpdcR'}\n",
      "Order ID :  pigPK0_fL8IwRWRlkpdcR\n"
     ]
    }
   ],
   "source": [
    "headers = {'Authorization': f'Bearer {accessToken}'}\n",
    "\n",
    "data1 = {\n",
    "  \"bookId\": 1,\n",
    "  \"customerName\": clientName,\n",
    "}\n",
    "\n",
    "response2: Response = requests.post('https://simple-books-api.glitch.me/orders', headers = headers, json = data1)\n",
    "\n",
    "status_code : int = response2.status_code\n",
    "print(status_code)\n",
    "\n",
    "json_obj : dict = response2.json()\n",
    "print(json_obj)\n",
    "\n",
    "orderId = json_obj.get('orderId')\n",
    "print('Order ID : ', orderId)"
   ]
  },
  {
   "cell_type": "markdown",
   "metadata": {},
   "source": [
    "### Update an order"
   ]
  },
  {
   "cell_type": "code",
   "execution_count": 17,
   "metadata": {},
   "outputs": [
    {
     "name": "stdout",
     "output_type": "stream",
     "text": [
      "204\n"
     ]
    }
   ],
   "source": [
    "headers = {'Authorization': f'Bearer {accessToken}'}\n",
    "\n",
    "data2 = {\n",
    "  \"customerName\": clientName\n",
    "}\n",
    "\n",
    "response3: Response = requests.patch(f'https://simple-books-api.glitch.me/orders/{orderId}', headers = headers, json = data2)\n",
    "\n",
    "status_code : int = response3.status_code\n",
    "print(status_code)\n",
    "\n",
    "# PATCH requests updates the order and send 204 status code. So, we are not getting any response body.\n"
   ]
  },
  {
   "cell_type": "markdown",
   "metadata": {},
   "source": [
    "### Delete an order"
   ]
  },
  {
   "cell_type": "code",
   "execution_count": 18,
   "metadata": {},
   "outputs": [
    {
     "name": "stdout",
     "output_type": "stream",
     "text": [
      "204\n"
     ]
    }
   ],
   "source": [
    "headers = {'Authorization': f'Bearer {accessToken}'}\n",
    "\n",
    "response4: Response = requests.delete(f'https://simple-books-api.glitch.me/orders/{orderId}', headers = headers)\n",
    "\n",
    "status_code : int = response4.status_code\n",
    "print(status_code)\n",
    "\n",
    "# DELETE request deletes the order and send 204 status code. So, we are not getting any response body.\n"
   ]
  },
  {
   "cell_type": "code",
   "execution_count": null,
   "metadata": {},
   "outputs": [],
   "source": []
  }
 ],
 "metadata": {
  "kernelspec": {
   "display_name": "myenv3_12",
   "language": "python",
   "name": "python3"
  },
  "language_info": {
   "codemirror_mode": {
    "name": "ipython",
    "version": 3
   },
   "file_extension": ".py",
   "mimetype": "text/x-python",
   "name": "python",
   "nbconvert_exporter": "python",
   "pygments_lexer": "ipython3",
   "version": "3.11.5"
  }
 },
 "nbformat": 4,
 "nbformat_minor": 2
}
