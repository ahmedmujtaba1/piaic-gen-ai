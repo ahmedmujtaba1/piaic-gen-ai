{
 "cells": [
  {
   "cell_type": "markdown",
   "metadata": {},
   "source": [
    "# Pydantic: Data validation using Python type hints\n",
    "\n",
    "We will learn how to get started with [Pydantic](https://docs.pydantic.dev/latest/), a data validation library for Python based on type annotations.\n",
    "\n",
    "Watch this Video Tutorial:\n",
    "\n",
    "[Pydantic Tutorial • Solving Python's Biggest Problem](https://www.youtube.com/watch?v=XIdQ6gO3Anc)"
   ]
  },
  {
   "cell_type": "code",
   "execution_count": 2,
   "metadata": {},
   "outputs": [],
   "source": [
    "from pydantic import BaseModel, EmailStr, validator"
   ]
  },
  {
   "cell_type": "code",
   "execution_count": 9,
   "metadata": {},
   "outputs": [
    {
     "name": "stderr",
     "output_type": "stream",
     "text": [
      "/var/folders/42/ftm2w6v12wn_x2jpcxj8gk4h0000gn/T/ipykernel_36807/2103278057.py:8: PydanticDeprecatedSince20: Pydantic V1 style `@validator` validators are deprecated. You should migrate to Pydantic V2 style `@field_validator` validators, see the migration guide for more details. Deprecated in Pydantic V2.0 to be removed in V3.0. See Pydantic V2 Migration Guide at https://errors.pydantic.dev/2.5/migration/\n",
      "  @validator('account_id')\n"
     ]
    },
    {
     "ename": "ValidationError",
     "evalue": "1 validation error for User\naccount_id\n  Value error, Account ID must be Positive: -200 [type=value_error, input_value=-200, input_type=int]\n    For further information visit https://errors.pydantic.dev/2.5/v/value_error",
     "output_type": "error",
     "traceback": [
      "\u001b[0;31m---------------------------------------------------------------------------\u001b[0m",
      "\u001b[0;31mValidationError\u001b[0m                           Traceback (most recent call last)",
      "Cell \u001b[0;32mIn[9], line 15\u001b[0m\n\u001b[1;32m     12\u001b[0m             \u001b[39mraise\u001b[39;00m \u001b[39mValueError\u001b[39;00m(\u001b[39mf\u001b[39m\u001b[39m\"\u001b[39m\u001b[39mAccount ID must be Positive: \u001b[39m\u001b[39m{\u001b[39;00mvalue\u001b[39m}\u001b[39;00m\u001b[39m\"\u001b[39m)\n\u001b[1;32m     13\u001b[0m         \u001b[39mreturn\u001b[39;00m value\n\u001b[0;32m---> 15\u001b[0m user1: User \u001b[39m=\u001b[39m User(name\u001b[39m=\u001b[39;49m\u001b[39m\"\u001b[39;49m\u001b[39mZia Khan\u001b[39;49m\u001b[39m\"\u001b[39;49m, email\u001b[39m=\u001b[39;49m\u001b[39m\"\u001b[39;49m\u001b[39mzia@panacloud.org\u001b[39;49m\u001b[39m\"\u001b[39;49m, account_id\u001b[39m=\u001b[39;49m\u001b[39m-\u001b[39;49m\u001b[39m200\u001b[39;49m)\n\u001b[1;32m     17\u001b[0m user_json_str: \u001b[39mstr\u001b[39m \u001b[39m=\u001b[39m user1\u001b[39m.\u001b[39mmodel_dump_json()\n\u001b[1;32m     18\u001b[0m \u001b[39mprint\u001b[39m(user_json_str, \u001b[39mtype\u001b[39m(user_json_str))\n",
      "File \u001b[0;32m~/anaconda3/envs/py311/lib/python3.11/site-packages/pydantic/main.py:164\u001b[0m, in \u001b[0;36mBaseModel.__init__\u001b[0;34m(__pydantic_self__, **data)\u001b[0m\n\u001b[1;32m    162\u001b[0m \u001b[39m# `__tracebackhide__` tells pytest and some other tools to omit this function from tracebacks\u001b[39;00m\n\u001b[1;32m    163\u001b[0m __tracebackhide__ \u001b[39m=\u001b[39m \u001b[39mTrue\u001b[39;00m\n\u001b[0;32m--> 164\u001b[0m __pydantic_self__\u001b[39m.\u001b[39;49m__pydantic_validator__\u001b[39m.\u001b[39;49mvalidate_python(data, self_instance\u001b[39m=\u001b[39;49m__pydantic_self__)\n",
      "\u001b[0;31mValidationError\u001b[0m: 1 validation error for User\naccount_id\n  Value error, Account ID must be Positive: -200 [type=value_error, input_value=-200, input_type=int]\n    For further information visit https://errors.pydantic.dev/2.5/v/value_error"
     ]
    }
   ],
   "source": [
    "from pydantic import BaseModel, EmailStr, validator\n",
    "\n",
    "class User(BaseModel):\n",
    "    name: str\n",
    "    email: EmailStr\n",
    "    account_id: int\n",
    "\n",
    "    @validator('account_id')\n",
    "    def validate_account_id(cls, value:int):\n",
    "\n",
    "        if value <= 0:\n",
    "            raise ValueError(f\"Account ID must be Positive: {value}\")\n",
    "        return value\n",
    "    \n",
    "user1: User = User(name=\"Zia Khan\", email=\"zia@panacloud.org\", account_id=-200)\n",
    "\n",
    "user_json_str: str = user1.model_dump_json()\n",
    "print(user_json_str, type(user_json_str))\n",
    "\n",
    "user_obj : User = User.model_validate_json(user_json_str)\n",
    "print(user_obj)"
   ]
  },
  {
   "cell_type": "markdown",
   "metadata": {},
   "source": [
    "### Create a Model:"
   ]
  },
  {
   "cell_type": "code",
   "execution_count": 10,
   "metadata": {},
   "outputs": [],
   "source": [
    "class User(BaseModel):\n",
    "    name: str\n",
    "    email: EmailStr\n",
    "    account_id: int\n",
    "\n",
    "    def validate_account_id(cls, value:int):\n",
    "        if(value <= 0):\n",
    "            raise ValueError(f\"Account ID must be Positive: {value}\")\n",
    "        return value"
   ]
  },
  {
   "cell_type": "code",
   "execution_count": 11,
   "metadata": {},
   "outputs": [
    {
     "name": "stdout",
     "output_type": "stream",
     "text": [
      "name='Zia Khan' email='zia@panacloud.com' account_id=1234\n"
     ]
    }
   ],
   "source": [
    "user: User = User(name=\"Zia Khan\", email=\"zia@panacloud.com\", account_id=1234)\n",
    "print(user)"
   ]
  },
  {
   "cell_type": "code",
   "execution_count": 12,
   "metadata": {},
   "outputs": [
    {
     "name": "stdout",
     "output_type": "stream",
     "text": [
      "name='Zia Khan' email='zia@panacloud.com' account_id=-10\n"
     ]
    }
   ],
   "source": [
    "user1: User = User(name=\"Zia Khan\", email=\"zia@panacloud.com\", account_id=-10)\n",
    "print(user1)"
   ]
  },
  {
   "cell_type": "code",
   "execution_count": 13,
   "metadata": {},
   "outputs": [
    {
     "data": {
      "text/plain": [
       "'{\"name\":\"Zia Khan\",\"email\":\"zia@panacloud.com\",\"account_id\":1234}'"
      ]
     },
     "metadata": {},
     "output_type": "display_data"
    },
    {
     "data": {
      "text/plain": [
       "'{\"name\":\"Zia Khan\",\"email\":\"zia@panacloud.com\",\"account_id\":-10}'"
      ]
     },
     "execution_count": 13,
     "metadata": {},
     "output_type": "execute_result"
    }
   ],
   "source": [
    "display(user.model_dump_json())\n",
    "user1.model_dump_json()"
   ]
  },
  {
   "cell_type": "code",
   "execution_count": 14,
   "metadata": {},
   "outputs": [
    {
     "data": {
      "text/plain": [
       "User(name='Zia Khan', email='zia@panacloud.com', account_id=-10)"
      ]
     },
     "execution_count": 14,
     "metadata": {},
     "output_type": "execute_result"
    }
   ],
   "source": [
    "User.model_validate_json(user1.model_dump_json())"
   ]
  },
  {
   "cell_type": "code",
   "execution_count": 15,
   "metadata": {},
   "outputs": [
    {
     "data": {
      "text/plain": [
       "User(name='Zia Khan', email='zia@panacloud.com', account_id=1234)"
      ]
     },
     "execution_count": 15,
     "metadata": {},
     "output_type": "execute_result"
    }
   ],
   "source": [
    "User.model_validate_json(user.model_dump_json())"
   ]
  },
  {
   "cell_type": "markdown",
   "metadata": {},
   "source": [
    "### JSON Output:"
   ]
  },
  {
   "cell_type": "code",
   "execution_count": 16,
   "metadata": {},
   "outputs": [
    {
     "name": "stdout",
     "output_type": "stream",
     "text": [
      "{\"name\":\"Zia Khan\",\"email\":\"zia@panacloud.com\",\"account_id\":1234} <class 'str'>\n"
     ]
    }
   ],
   "source": [
    "user_json_str: str = user.model_dump_json()\n",
    "print(user_json_str, type(user_json_str))"
   ]
  },
  {
   "cell_type": "markdown",
   "metadata": {},
   "source": [
    "### Dictionary Object:"
   ]
  },
  {
   "cell_type": "code",
   "execution_count": 17,
   "metadata": {},
   "outputs": [
    {
     "name": "stdout",
     "output_type": "stream",
     "text": [
      "{'name': 'Zia Khan', 'email': 'zia@panacloud.com', 'account_id': 1234} <class 'dict'>\n"
     ]
    }
   ],
   "source": [
    "user_dict: dict = user.model_dump()\n",
    "print(user_dict, type(user_dict))"
   ]
  },
  {
   "cell_type": "markdown",
   "metadata": {},
   "source": [
    "### Convert JSON str into Object:"
   ]
  },
  {
   "cell_type": "code",
   "execution_count": 18,
   "metadata": {},
   "outputs": [
    {
     "name": "stdout",
     "output_type": "stream",
     "text": [
      "name='Zia Khan' email='zia@panacloud.com' account_id=1234\n"
     ]
    }
   ],
   "source": [
    "user_obj : User = User.model_validate_json(user_json_str)\n",
    "print(user_obj)"
   ]
  },
  {
   "cell_type": "markdown",
   "metadata": {},
   "source": [
    "### Another Example"
   ]
  },
  {
   "cell_type": "code",
   "execution_count": 19,
   "metadata": {},
   "outputs": [
    {
     "name": "stdout",
     "output_type": "stream",
     "text": [
      "id=123 name='John Doe' signup_ts=datetime.datetime(2017, 6, 1, 12, 22) friends=[1, 2, 3]\n",
      "123\n"
     ]
    }
   ],
   "source": [
    "from datetime import datetime\n",
    "from typing import Optional\n",
    "\n",
    "class User(BaseModel):\n",
    "    id: int\n",
    "    name: str = 'John Doe'\n",
    "    signup_ts: Optional[datetime] = None\n",
    "    friends: list[int] = []\n",
    "\n",
    "external_data: dict = {'id': '123', 'signup_ts': '2017-06-01 12:22', 'friends': [1, '2', b'3']}\n",
    "user: User = User(**external_data)\n",
    "print(user)\n",
    "print(user.id)"
   ]
  },
  {
   "cell_type": "code",
   "execution_count": null,
   "metadata": {},
   "outputs": [],
   "source": []
  }
 ],
 "metadata": {
  "kernelspec": {
   "display_name": "myenv3_12",
   "language": "python",
   "name": "python3"
  },
  "language_info": {
   "codemirror_mode": {
    "name": "ipython",
    "version": 3
   },
   "file_extension": ".py",
   "mimetype": "text/x-python",
   "name": "python",
   "nbconvert_exporter": "python",
   "pygments_lexer": "ipython3",
   "version": "3.11.5"
  }
 },
 "nbformat": 4,
 "nbformat_minor": 2
}
